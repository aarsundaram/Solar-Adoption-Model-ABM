{
 "metadata": {
  "language_info": {
   "codemirror_mode": {
    "name": "ipython",
    "version": 3
   },
   "file_extension": ".py",
   "mimetype": "text/x-python",
   "name": "python",
   "nbconvert_exporter": "python",
   "pygments_lexer": "ipython3",
   "version": "3.6.12"
  },
  "orig_nbformat": 4,
  "kernelspec": {
   "name": "python3",
   "display_name": "Python 3.6.12 64-bit ('networksci': conda)"
  },
  "interpreter": {
   "hash": "b2c46f39afd024b40309f4d81464c458674b504768a264b780ab4385ec8101ea"
  }
 },
 "nbformat": 4,
 "nbformat_minor": 2,
 "cells": [
  {
   "cell_type": "code",
   "execution_count": 28,
   "metadata": {},
   "outputs": [
    {
     "output_type": "execute_result",
     "data": {
      "text/plain": [
       "'tract_1802.csv'"
      ]
     },
     "metadata": {},
     "execution_count": 28
    }
   ],
   "source": [
    "import glob\n",
    "rootpath= '/Users/rtseinstein/Documents/GitHub/Solar-Adoption-Model-ABM/'\n",
    "\n",
    "todo = [200,300,401,403,404,501,502,600,700,800,\\\n",
    "    1500,1600,1700,1801,1802,1901,1902,2000,2100,2200,2300,2500,2600,\\\n",
    "        13508,13707,13802,13901,14100,14202,14202,14301,14302,14401,14402,\\\n",
    "            14502,14503,14606,14607,14608,14609,14611,14612,14613,14614,14615,\\\n",
    "                14700,14801,14802,14803,51600]\n",
    "\n",
    "\n",
    "todonames = [rootpath+'data/households_censustracts/tract_'+str(i)+'.csv' for i in todo]\n",
    "todonames[14][90:]"
   ]
  },
  {
   "cell_type": "code",
   "execution_count": 22,
   "metadata": {},
   "outputs": [
    {
     "output_type": "execute_result",
     "data": {
      "text/plain": [
       "'/Users/rtseinstein/Documents/GitHub/Solar-Adoption-Model-ABM/data/households_censustracts/tract_200.csv'"
      ]
     },
     "metadata": {},
     "execution_count": 22
    }
   ],
   "source": [
    "todonames[0]"
   ]
  },
  {
   "cell_type": "code",
   "execution_count": null,
   "metadata": {},
   "outputs": [],
   "source": []
  }
 ]
}